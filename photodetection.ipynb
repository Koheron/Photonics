{
 "metadata": {
  "name": "",
  "signature": "sha256:3ddb362f24a518f44020d1e43154e97c0e8f6293a51f2e1abb51ab75bd329fd0"
 },
 "nbformat": 3,
 "nbformat_minor": 0,
 "worksheets": [
  {
   "cells": [
    {
     "cell_type": "heading",
     "level": 1,
     "metadata": {},
     "source": [
      "Photodetection"
     ]
    },
    {
     "cell_type": "markdown",
     "metadata": {},
     "source": [
      "Le photod\u00e9tecteur est un composant critique dans tout syst\u00e8me optronique, une mauvaise conception de ce dernier conduira souvent \u00e0 une bien pi\u00e8tre qualit\u00e9 du syst\u00e8me. Une erreur courante est de n\u00e9gliger la rapport signal-\u00e0-bruit afin d'augmenter la bande-passante. Nous allons dans cette annexe essayer de pr\u00e9senter rapidement quelques principes \u00e0 conna\u00eetre pour la conception d'un photod\u00e9tecteur performant. Pour une \u00e9tude plus d\u00e9taill\u00e9e pr\u00e9sentant d'autres montages, on pourra consulter \\cite{hobbs2001}."
     ]
    },
    {
     "cell_type": "heading",
     "level": 2,
     "metadata": {},
     "source": [
      "Photodiode"
     ]
    },
    {
     "cell_type": "markdown",
     "metadata": {},
     "source": [
      "Dans sa version simple, une photodiode est compos\u00e9e d'une jonction *p-n* \u00e0 l'interface de laquelle une zone de charge d'espace appara\u00eet. Si un photon avec une \u00e9nergie sup\u00e9rieure \u00e0 la largeur de la bande interdite du semi-conducteur arrive dans la jonction, il peut \u00eatre absorb\u00e9 et ainsi g\u00e9n\u00e9rer une paire \u00e9lectron-trou qui est dissoci\u00e9e par le champ \u00e9lectrique de la zone de charge d'espace. Un courant d\u00e9pendant du flux lumineux incident traverse alors la diode.\n",
      "\n",
      "Une photodiode peut \u00eatre mod\u00e9lis\u00e9e (Fig.~\\ref{fig:model_photodiode}) de mani\u00e8re simple comme une source de courant $I_{\\rm ph}$ contr\u00f4l\u00e9e par le flux lumineux incident $I_{\\rm ph} = S P_{\\rm opt}$ o\u00f9 $S$ est la sensibilit\u00e9 de la photodiode, g\u00e9n\u00e9ralement exprim\u00e9e en A/W. \n",
      "\n",
      "En parall\u00e8le de la source de courant, une capacit\u00e9 $C_{p}$ mod\u00e9lise la capacit\u00e9 de la jonction, elle est proportionnelle \u00e0 la surface active de la photodiode. Pour les photodiodes rapides, la capacit\u00e9 $C_{p} \\sim 0.1$ pF est souvent limit\u00e9e par la capacit\u00e9 parasite du bo\u00eetier."
     ]
    },
    {
     "cell_type": "code",
     "collapsed": false,
     "input": [
      "from IPython.display import SVG\n",
      "SVG(filename='python-logo.svg') "
     ],
     "language": "python",
     "metadata": {},
     "outputs": []
    }
   ],
   "metadata": {}
  }
 ]
}